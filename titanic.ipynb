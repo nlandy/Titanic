{
 "cells": [
  {
   "cell_type": "code",
   "execution_count": 1,
   "id": "1c399dd6-dda0-422e-bafc-3b7df9ca632f",
   "metadata": {},
   "outputs": [],
   "source": [
    "# Let's start with some standard imports\n",
    "import numpy as np\n",
    "import matplotlib.pyplot as plt\n",
    "import pandas as pd\n",
    "import sklearn"
   ]
  },
  {
   "cell_type": "code",
   "execution_count": 2,
   "id": "6a8483be-f8f4-4724-a946-e90ac1ef7da3",
   "metadata": {},
   "outputs": [],
   "source": [
    "# Downloading and unzipping dataset\n",
    "# Only need to run once\n",
    "\n",
    "#!cd data/ && kaggle competitions download -c titanic\n",
    "#!cd data/ && unzip titanic.zip"
   ]
  },
  {
   "cell_type": "code",
   "execution_count": 3,
   "id": "2fb99b56-93db-4e8d-b0c1-95187fe57d2d",
   "metadata": {},
   "outputs": [
    {
     "data": {
      "text/html": [
       "<div>\n",
       "<style scoped>\n",
       "    .dataframe tbody tr th:only-of-type {\n",
       "        vertical-align: middle;\n",
       "    }\n",
       "\n",
       "    .dataframe tbody tr th {\n",
       "        vertical-align: top;\n",
       "    }\n",
       "\n",
       "    .dataframe thead th {\n",
       "        text-align: right;\n",
       "    }\n",
       "</style>\n",
       "<table border=\"1\" class=\"dataframe\">\n",
       "  <thead>\n",
       "    <tr style=\"text-align: right;\">\n",
       "      <th></th>\n",
       "      <th>PassengerId</th>\n",
       "      <th>Survived</th>\n",
       "      <th>Pclass</th>\n",
       "      <th>Name</th>\n",
       "      <th>Sex</th>\n",
       "      <th>Age</th>\n",
       "      <th>SibSp</th>\n",
       "      <th>Parch</th>\n",
       "      <th>Ticket</th>\n",
       "      <th>Fare</th>\n",
       "      <th>Cabin</th>\n",
       "      <th>Embarked</th>\n",
       "    </tr>\n",
       "  </thead>\n",
       "  <tbody>\n",
       "    <tr>\n",
       "      <th>0</th>\n",
       "      <td>1</td>\n",
       "      <td>0</td>\n",
       "      <td>3</td>\n",
       "      <td>Braund, Mr. Owen Harris</td>\n",
       "      <td>male</td>\n",
       "      <td>22.0</td>\n",
       "      <td>1</td>\n",
       "      <td>0</td>\n",
       "      <td>A/5 21171</td>\n",
       "      <td>7.2500</td>\n",
       "      <td>NaN</td>\n",
       "      <td>S</td>\n",
       "    </tr>\n",
       "    <tr>\n",
       "      <th>1</th>\n",
       "      <td>2</td>\n",
       "      <td>1</td>\n",
       "      <td>1</td>\n",
       "      <td>Cumings, Mrs. John Bradley (Florence Briggs Th...</td>\n",
       "      <td>female</td>\n",
       "      <td>38.0</td>\n",
       "      <td>1</td>\n",
       "      <td>0</td>\n",
       "      <td>PC 17599</td>\n",
       "      <td>71.2833</td>\n",
       "      <td>C85</td>\n",
       "      <td>C</td>\n",
       "    </tr>\n",
       "    <tr>\n",
       "      <th>2</th>\n",
       "      <td>3</td>\n",
       "      <td>1</td>\n",
       "      <td>3</td>\n",
       "      <td>Heikkinen, Miss. Laina</td>\n",
       "      <td>female</td>\n",
       "      <td>26.0</td>\n",
       "      <td>0</td>\n",
       "      <td>0</td>\n",
       "      <td>STON/O2. 3101282</td>\n",
       "      <td>7.9250</td>\n",
       "      <td>NaN</td>\n",
       "      <td>S</td>\n",
       "    </tr>\n",
       "    <tr>\n",
       "      <th>3</th>\n",
       "      <td>4</td>\n",
       "      <td>1</td>\n",
       "      <td>1</td>\n",
       "      <td>Futrelle, Mrs. Jacques Heath (Lily May Peel)</td>\n",
       "      <td>female</td>\n",
       "      <td>35.0</td>\n",
       "      <td>1</td>\n",
       "      <td>0</td>\n",
       "      <td>113803</td>\n",
       "      <td>53.1000</td>\n",
       "      <td>C123</td>\n",
       "      <td>S</td>\n",
       "    </tr>\n",
       "    <tr>\n",
       "      <th>4</th>\n",
       "      <td>5</td>\n",
       "      <td>0</td>\n",
       "      <td>3</td>\n",
       "      <td>Allen, Mr. William Henry</td>\n",
       "      <td>male</td>\n",
       "      <td>35.0</td>\n",
       "      <td>0</td>\n",
       "      <td>0</td>\n",
       "      <td>373450</td>\n",
       "      <td>8.0500</td>\n",
       "      <td>NaN</td>\n",
       "      <td>S</td>\n",
       "    </tr>\n",
       "  </tbody>\n",
       "</table>\n",
       "</div>"
      ],
      "text/plain": [
       "   PassengerId  Survived  Pclass  \\\n",
       "0            1         0       3   \n",
       "1            2         1       1   \n",
       "2            3         1       3   \n",
       "3            4         1       1   \n",
       "4            5         0       3   \n",
       "\n",
       "                                                Name     Sex   Age  SibSp  \\\n",
       "0                            Braund, Mr. Owen Harris    male  22.0      1   \n",
       "1  Cumings, Mrs. John Bradley (Florence Briggs Th...  female  38.0      1   \n",
       "2                             Heikkinen, Miss. Laina  female  26.0      0   \n",
       "3       Futrelle, Mrs. Jacques Heath (Lily May Peel)  female  35.0      1   \n",
       "4                           Allen, Mr. William Henry    male  35.0      0   \n",
       "\n",
       "   Parch            Ticket     Fare Cabin Embarked  \n",
       "0      0         A/5 21171   7.2500   NaN        S  \n",
       "1      0          PC 17599  71.2833   C85        C  \n",
       "2      0  STON/O2. 3101282   7.9250   NaN        S  \n",
       "3      0            113803  53.1000  C123        S  \n",
       "4      0            373450   8.0500   NaN        S  "
      ]
     },
     "execution_count": 3,
     "metadata": {},
     "output_type": "execute_result"
    }
   ],
   "source": [
    "# Let's load the data and take a first look\n",
    "df = pd.read_csv(\"data/train.csv\")\n",
    "df.head()"
   ]
  },
  {
   "cell_type": "code",
   "execution_count": 4,
   "id": "4ea0a7e2-7e71-4405-9642-86a7a77af527",
   "metadata": {},
   "outputs": [],
   "source": [
    "# Our primary cross validation method will be K-fold CV\n",
    "# Since our dataset and models will be small, we'll have resources to train several models to estimate model variance\n",
    "# Because of this, we won't have an individual val set - we're safe to do EDA on the whole given dataset"
   ]
  },
  {
   "cell_type": "code",
   "execution_count": 5,
   "id": "60cb9a3f-44c0-4e66-9706-9881b3703253",
   "metadata": {},
   "outputs": [
    {
     "data": {
      "text/html": [
       "<div>\n",
       "<style scoped>\n",
       "    .dataframe tbody tr th:only-of-type {\n",
       "        vertical-align: middle;\n",
       "    }\n",
       "\n",
       "    .dataframe tbody tr th {\n",
       "        vertical-align: top;\n",
       "    }\n",
       "\n",
       "    .dataframe thead th {\n",
       "        text-align: right;\n",
       "    }\n",
       "</style>\n",
       "<table border=\"1\" class=\"dataframe\">\n",
       "  <thead>\n",
       "    <tr style=\"text-align: right;\">\n",
       "      <th></th>\n",
       "      <th>PassengerId</th>\n",
       "      <th>Survived</th>\n",
       "      <th>Pclass</th>\n",
       "      <th>Age</th>\n",
       "      <th>SibSp</th>\n",
       "      <th>Parch</th>\n",
       "      <th>Fare</th>\n",
       "    </tr>\n",
       "  </thead>\n",
       "  <tbody>\n",
       "    <tr>\n",
       "      <th>count</th>\n",
       "      <td>891.000000</td>\n",
       "      <td>891.000000</td>\n",
       "      <td>891.000000</td>\n",
       "      <td>714.000000</td>\n",
       "      <td>891.000000</td>\n",
       "      <td>891.000000</td>\n",
       "      <td>891.000000</td>\n",
       "    </tr>\n",
       "    <tr>\n",
       "      <th>mean</th>\n",
       "      <td>446.000000</td>\n",
       "      <td>0.383838</td>\n",
       "      <td>2.308642</td>\n",
       "      <td>29.699118</td>\n",
       "      <td>0.523008</td>\n",
       "      <td>0.381594</td>\n",
       "      <td>32.204208</td>\n",
       "    </tr>\n",
       "    <tr>\n",
       "      <th>std</th>\n",
       "      <td>257.353842</td>\n",
       "      <td>0.486592</td>\n",
       "      <td>0.836071</td>\n",
       "      <td>14.526497</td>\n",
       "      <td>1.102743</td>\n",
       "      <td>0.806057</td>\n",
       "      <td>49.693429</td>\n",
       "    </tr>\n",
       "    <tr>\n",
       "      <th>min</th>\n",
       "      <td>1.000000</td>\n",
       "      <td>0.000000</td>\n",
       "      <td>1.000000</td>\n",
       "      <td>0.420000</td>\n",
       "      <td>0.000000</td>\n",
       "      <td>0.000000</td>\n",
       "      <td>0.000000</td>\n",
       "    </tr>\n",
       "    <tr>\n",
       "      <th>25%</th>\n",
       "      <td>223.500000</td>\n",
       "      <td>0.000000</td>\n",
       "      <td>2.000000</td>\n",
       "      <td>20.125000</td>\n",
       "      <td>0.000000</td>\n",
       "      <td>0.000000</td>\n",
       "      <td>7.910400</td>\n",
       "    </tr>\n",
       "    <tr>\n",
       "      <th>50%</th>\n",
       "      <td>446.000000</td>\n",
       "      <td>0.000000</td>\n",
       "      <td>3.000000</td>\n",
       "      <td>28.000000</td>\n",
       "      <td>0.000000</td>\n",
       "      <td>0.000000</td>\n",
       "      <td>14.454200</td>\n",
       "    </tr>\n",
       "    <tr>\n",
       "      <th>75%</th>\n",
       "      <td>668.500000</td>\n",
       "      <td>1.000000</td>\n",
       "      <td>3.000000</td>\n",
       "      <td>38.000000</td>\n",
       "      <td>1.000000</td>\n",
       "      <td>0.000000</td>\n",
       "      <td>31.000000</td>\n",
       "    </tr>\n",
       "    <tr>\n",
       "      <th>max</th>\n",
       "      <td>891.000000</td>\n",
       "      <td>1.000000</td>\n",
       "      <td>3.000000</td>\n",
       "      <td>80.000000</td>\n",
       "      <td>8.000000</td>\n",
       "      <td>6.000000</td>\n",
       "      <td>512.329200</td>\n",
       "    </tr>\n",
       "  </tbody>\n",
       "</table>\n",
       "</div>"
      ],
      "text/plain": [
       "       PassengerId    Survived      Pclass         Age       SibSp  \\\n",
       "count   891.000000  891.000000  891.000000  714.000000  891.000000   \n",
       "mean    446.000000    0.383838    2.308642   29.699118    0.523008   \n",
       "std     257.353842    0.486592    0.836071   14.526497    1.102743   \n",
       "min       1.000000    0.000000    1.000000    0.420000    0.000000   \n",
       "25%     223.500000    0.000000    2.000000   20.125000    0.000000   \n",
       "50%     446.000000    0.000000    3.000000   28.000000    0.000000   \n",
       "75%     668.500000    1.000000    3.000000   38.000000    1.000000   \n",
       "max     891.000000    1.000000    3.000000   80.000000    8.000000   \n",
       "\n",
       "            Parch        Fare  \n",
       "count  891.000000  891.000000  \n",
       "mean     0.381594   32.204208  \n",
       "std      0.806057   49.693429  \n",
       "min      0.000000    0.000000  \n",
       "25%      0.000000    7.910400  \n",
       "50%      0.000000   14.454200  \n",
       "75%      0.000000   31.000000  \n",
       "max      6.000000  512.329200  "
      ]
     },
     "execution_count": 5,
     "metadata": {},
     "output_type": "execute_result"
    }
   ],
   "source": [
    "# Let's look at a summary of the data\n",
    "df.describe()"
   ]
  },
  {
   "cell_type": "code",
   "execution_count": 6,
   "id": "8e7d4bad-aada-4dc4-aaaa-246fa9500156",
   "metadata": {},
   "outputs": [
    {
     "data": {
      "text/plain": [
       "Index(['PassengerId', 'Survived', 'Pclass', 'Name', 'Sex', 'Age', 'SibSp',\n",
       "       'Parch', 'Ticket', 'Fare', 'Cabin', 'Embarked'],\n",
       "      dtype='object')"
      ]
     },
     "execution_count": 6,
     "metadata": {},
     "output_type": "execute_result"
    }
   ],
   "source": [
    "# Get a list of features\n",
    "df.columns"
   ]
  },
  {
   "cell_type": "code",
   "execution_count": 7,
   "id": "a4f5795b-fd8f-4001-a6d6-647ada8089fe",
   "metadata": {},
   "outputs": [],
   "source": [
    "# Get total number of passengers\n",
    "N = len(df)"
   ]
  },
  {
   "cell_type": "code",
   "execution_count": 8,
   "id": "2265a16a-edb1-4761-9653-a0a559909b35",
   "metadata": {},
   "outputs": [
    {
     "name": "stdout",
     "output_type": "stream",
     "text": [
      "0       1\n",
      "1       2\n",
      "2       3\n",
      "3       4\n",
      "4       5\n",
      "     ... \n",
      "95     96\n",
      "96     97\n",
      "97     98\n",
      "98     99\n",
      "99    100\n",
      "Name: PassengerId, Length: 100, dtype: int64\n"
     ]
    }
   ],
   "source": [
    "# First, let's look at passenger id\n",
    "# It appears like it might just be a linear increment\n",
    "print(df.PassengerId.head(100))\n",
    "\n",
    "# Let's confirm\n",
    "for n in range(N):\n",
    "    assert((n+1) == df.PassengerId[n])\n",
    "# Looks like we're good to go"
   ]
  },
  {
   "cell_type": "code",
   "execution_count": 9,
   "id": "6bfbc900-9cc5-450a-8ad3-b6b928bdfd18",
   "metadata": {},
   "outputs": [
    {
     "name": "stdout",
     "output_type": "stream",
     "text": [
      "Survived\n",
      "0    549\n",
      "1    342\n",
      "Name: count, dtype: int64\n"
     ]
    },
    {
     "data": {
      "text/plain": [
       "<Axes: xlabel='Survived'>"
      ]
     },
     "execution_count": 9,
     "metadata": {},
     "output_type": "execute_result"
    },
    {
     "data": {
      "image/png": "[encoded data removed]",
      "text/plain": [
       "<Figure size 640x480 with 1 Axes>"
      ]
     },
     "metadata": {},
     "output_type": "display_data"
    }
   ],
   "source": [
    "# Next, let's look at the Survived column\n",
    "# This is our y - the value we're trying to predict\n",
    "# Let's confirm we're only getting binary values\n",
    "assert([0,1] in df.Survived.unique())\n",
    "survived_cnts = df.Survived.value_counts(dropna=False)\n",
    "print(survived_cnts)\n",
    "survived_cnts.plot(kind='bar')\n",
    "# Less than 40% of people in this dataset survived"
   ]
  },
  {
   "cell_type": "code",
   "execution_count": 10,
   "id": "6f814bad-4e72-4d0d-8f85-6f3882b3a5f1",
   "metadata": {},
   "outputs": [
    {
     "name": "stdout",
     "output_type": "stream",
     "text": [
      "Pclass\n",
      "3    491\n",
      "1    216\n",
      "2    184\n",
      "Name: count, dtype: int64\n"
     ]
    },
    {
     "data": {
      "text/plain": [
       "<Axes: xlabel='Pclass'>"
      ]
     },
     "execution_count": 10,
     "metadata": {},
     "output_type": "execute_result"
    },
    {
     "data": {
      "image/png": "[encoded data removed]",
      "text/plain": [
       "<Figure size 640x480 with 1 Axes>"
      ]
     },
     "metadata": {},
     "output_type": "display_data"
    }
   ],
   "source": [
    "# Next - Pclass, which is the ticket class\n",
    "# Looks like it's a ternary feature\n",
    "# When we start doing preprocessing, we need to one-hot encode this\n",
    "pclass_cnts = df.Pclass.value_counts(dropna=False)\n",
    "print(pclass_cnts)\n",
    "pclass_cnts.plot(kind='bar')"
   ]
  },
  {
   "cell_type": "code",
   "execution_count": 11,
   "id": "857e4f02-2808-4920-84f2-dcd38d9a3a1e",
   "metadata": {},
   "outputs": [
    {
     "name": "stdout",
     "output_type": "stream",
     "text": [
      "[('Mr.', 517), ('Miss.', 182), ('Mrs.', 125), ('William', 62), ('John', 44), ('Master.', 40), ('Henry', 33), ('James', 24), ('Charles', 23), ('George', 22), ('Thomas', 21), ('Edward', 18), ('Joseph', 16), ('Johan', 15), ('Frederick', 15), ('Mary', 13), ('Richard', 13), ('Samuel', 13), ('Arthur', 13), ('Alfred', 12)]\n"
     ]
    }
   ],
   "source": [
    "# Next, let's look at names\n",
    "# Confirmed all names are unique\n",
    "# I will probably not dive too deep into text features until later\n",
    "assert(df.Name.is_unique)\n",
    "\n",
    "# Let's get the most words (first names, last names, prefix, suffix, etc.)\n",
    "from collections import Counter\n",
    "words = \" \".join(df.Name)\n",
    "name_word_cnts = Counter(words.split())\n",
    "print(name_word_cnts.most_common(20))"
   ]
  },
  {
   "cell_type": "code",
   "execution_count": 12,
   "id": "96afe1e3-b015-438b-bbc0-a2ca514cb691",
   "metadata": {},
   "outputs": [],
   "source": [
    "# Let's create a word cloud with all of the words in the names column\n",
    "# from wordcloud import WordCloud, STOPWORDS\n",
    "# wordcloud = WordCloud(width= 3000, height = 2000, random_state=1, background_color='#73B8E9', colormap='Pastel1', collocations=False, stopwords = STOPWORDS).generate(words)\n",
    "# plt.figure(figsize=(12, 8))\n",
    "# plt.imshow(wordcloud, interpolation=\"bilinear\")\n",
    "# plt.axis('off')\n",
    "# plt.show()"
   ]
  },
  {
   "cell_type": "code",
   "execution_count": 13,
   "id": "dd62c208-ffc9-4047-b78d-825ec702159c",
   "metadata": {},
   "outputs": [
    {
     "data": {
      "text/plain": [
       "<Axes: xlabel='Sex'>"
      ]
     },
     "execution_count": 13,
     "metadata": {},
     "output_type": "execute_result"
    },
    {
     "data": {
      "image/png": "[encoded data removed]",
      "text/plain": [
       "<Figure size 640x480 with 1 Axes>"
      ]
     },
     "metadata": {},
     "output_type": "display_data"
    }
   ],
   "source": [
    "# Next is Sex\n",
    "# Let's confirm if it's binary\n",
    "sex_cnts = df.Sex.value_counts(dropna=False)\n",
    "sex_cnts.plot(kind='bar')\n",
    "# We'll encode these into a binary 0/1 feature later"
   ]
  },
  {
   "cell_type": "code",
   "execution_count": 14,
   "id": "cb636369-0904-45d3-95b4-be71842ef908",
   "metadata": {},
   "outputs": [
    {
     "name": "stdout",
     "output_type": "stream",
     "text": [
      "Age\n",
      "24.00    30\n",
      "22.00    27\n",
      "18.00    26\n",
      "19.00    25\n",
      "28.00    25\n",
      "         ..\n",
      "36.50     1\n",
      "55.50     1\n",
      "0.92      1\n",
      "23.50     1\n",
      "74.00     1\n",
      "Name: count, Length: 88, dtype: int64\n"
     ]
    },
    {
     "data": {
      "text/plain": [
       "<Axes: >"
      ]
     },
     "execution_count": 14,
     "metadata": {},
     "output_type": "execute_result"
    },
    {
     "data": {
      "image/png": "[encoded data removed]",
      "text/plain": [
       "<Figure size 640x480 with 1 Axes>"
      ]
     },
     "metadata": {},
     "output_type": "display_data"
    }
   ],
   "source": [
    "age_cnts = df.Age.value_counts()\n",
    "print(age_cnts)\n",
    "# Interestingly, we have fractional ages here\n",
    "df.Age.hist()\n",
    "# May be a skewed normal distribution?\n",
    "# May want to create feature bins for age groups (baby, child, adult, etc.)"
   ]
  },
  {
   "cell_type": "code",
   "execution_count": 15,
   "id": "8cde6a97-b0d7-4127-af24-71ed608347d7",
   "metadata": {},
   "outputs": [
    {
     "name": "stdout",
     "output_type": "stream",
     "text": [
      "SibSp\n",
      "0    608\n",
      "1    209\n",
      "2     28\n",
      "4     18\n",
      "3     16\n",
      "8      7\n",
      "5      5\n",
      "Name: count, dtype: int64\n"
     ]
    },
    {
     "data": {
      "text/plain": [
       "<Axes: >"
      ]
     },
     "execution_count": 15,
     "metadata": {},
     "output_type": "execute_result"
    },
    {
     "data": {
      "image/png": "[encoded data removed]",
      "text/plain": [
       "<Figure size 640x480 with 1 Axes>"
      ]
     },
     "metadata": {},
     "output_type": "display_data"
    }
   ],
   "source": [
    "# Next is number of siblings / spouses on-board\n",
    "sibsp_cnts = df.SibSp.value_counts()\n",
    "print(sibsp_cnts)\n",
    "df.SibSp.hist()\n",
    "# Could split this into a binary feature - i.e. are you in a family on the Titanic?\n",
    "# Another thing to note - we seem to have five folks in a family of 5 (are they in the same family?) and 7 folks in a family of 8.\n",
    "# But one of the eight isn't on the list?\n",
    "# Maybe it's in the test set\n",
    "# This feature MAY cause overfitting since we're going to edge of the range for this feature"
   ]
  },
  {
   "cell_type": "code",
   "execution_count": 16,
   "id": "c4f54013-b1e2-48fe-9c8a-9029311363c9",
   "metadata": {},
   "outputs": [
    {
     "name": "stdout",
     "output_type": "stream",
     "text": [
      "Parch\n",
      "0    678\n",
      "1    118\n",
      "2     80\n",
      "5      5\n",
      "3      5\n",
      "4      4\n",
      "6      1\n",
      "Name: count, dtype: int64\n"
     ]
    },
    {
     "data": {
      "text/plain": [
       "<Axes: >"
      ]
     },
     "execution_count": 16,
     "metadata": {},
     "output_type": "execute_result"
    },
    {
     "data": {
      "image/png": "[encoded data removed]",
      "text/plain": [
       "<Figure size 640x480 with 1 Axes>"
      ]
     },
     "metadata": {},
     "output_type": "display_data"
    }
   ],
   "source": [
    "# Next is num parents / children on Titanic\n",
    "print(df.Parch.value_counts())\n",
    "df.Parch.hist()\n",
    "# Most folks don't have parents or children\n",
    "# The most common non-zero value is 1\n",
    "# Could split this up into categorical features? \n",
    "# Maybe just 0, 1, 2, and 2+?"
   ]
  },
  {
   "cell_type": "code",
   "execution_count": 17,
   "id": "c4504917-e370-4677-9f57-1d52f4b201a9",
   "metadata": {},
   "outputs": [
    {
     "name": "stdout",
     "output_type": "stream",
     "text": [
      "[('PC', 60), ('C.A.', 27), ('STON/O', 12), ('2.', 12), ('A/5', 10), ('W./C.', 9), ('SOTON/O.Q.', 8), ('CA.', 8), ('A/5.', 7), ('347082', 7), ('1601', 7), ('SOTON/OQ', 7), ('2343', 7), ('STON/O2.', 6), ('3101295', 6), ('CA', 6), ('2144', 6), ('347088', 6), ('382652', 5), ('S.O.C.', 5), ('14879', 5), ('C', 5), ('SC/PARIS', 5), ('F.C.C.', 5), ('349909', 4), ('347077', 4), ('19950', 4), ('SC/Paris', 4), ('6608', 4), ('4133', 4), ('LINE', 4), ('113781', 4), ('17421', 4), ('17757', 4), ('113760', 4), ('2666', 4), ('347742', 3), ('PP', 3), ('2123', 3), ('A/4.', 3)]\n",
      "count    8.870000e+02\n",
      "mean     2.983284e+05\n",
      "std      6.576144e+05\n",
      "min      3.000000e+00\n",
      "25%      1.487900e+04\n",
      "50%      1.122770e+05\n",
      "75%      3.470820e+05\n",
      "max      3.101317e+06\n",
      "dtype: float64\n"
     ]
    },
    {
     "data": {
      "image/png": "[encoded data removed]",
      "text/plain": [
       "<Figure size 640x480 with 1 Axes>"
      ]
     },
     "metadata": {},
     "output_type": "display_data"
    }
   ],
   "source": [
    "# Next is ticket id\n",
    "# This seems more like a string?\n",
    "# Let's extract the most common words\n",
    "df.Ticket.head()\n",
    "ticket_words_list = \" \".join(df.Ticket).split()\n",
    "ticket_word_cnts = Counter(ticket_words_list)\n",
    "print(ticket_word_cnts.most_common(40))\n",
    "# Surpringly some of these are words, but some are numbers too - what's the relation? Do families share ticket numbers?\n",
    "# Let's grab the numbers and make a histogram\n",
    "ticket_nums_series = pd.Series([int(n) for n in ticket_words_list if n.isnumeric()])\n",
    "plt.xscale('log')\n",
    "ticket_nums_series.hist()\n",
    "print(ticket_nums_series.describe())\n",
    "# Looks to mostly look like a linear increment with some values missing"
   ]
  },
  {
   "cell_type": "code",
   "execution_count": 18,
   "id": "df56791a-832f-4311-836c-2d72600128d4",
   "metadata": {},
   "outputs": [
    {
     "name": "stdout",
     "output_type": "stream",
     "text": [
      "count    891.000000\n",
      "mean      32.204208\n",
      "std       49.693429\n",
      "min        0.000000\n",
      "25%        7.910400\n",
      "50%       14.454200\n",
      "75%       31.000000\n",
      "max      512.329200\n",
      "Name: Fare, dtype: float64\n",
      "Fare\n",
      "8.0500     43\n",
      "13.0000    42\n",
      "7.8958     38\n",
      "7.7500     34\n",
      "26.0000    31\n",
      "           ..\n",
      "35.0000     1\n",
      "28.5000     1\n",
      "6.2375      1\n",
      "14.0000     1\n",
      "10.5167     1\n",
      "Name: count, Length: 248, dtype: int64\n"
     ]
    },
    {
     "data": {
      "image/png": "[encoded data removed]",
      "text/plain": [
       "<Figure size 640x480 with 1 Axes>"
      ]
     },
     "metadata": {},
     "output_type": "display_data"
    }
   ],
   "source": [
    "# Next let's look at fare\n",
    "print(df.Fare.describe())\n",
    "df.Fare.hist()\n",
    "# Looks like some people got in for free!\n",
    "print(df.Fare.value_counts())\n",
    "# Might be good to bin these values - there are defintely some standard price values"
   ]
  },
  {
   "cell_type": "code",
   "execution_count": 19,
   "id": "a48087a5-7ecb-454a-bb38-b540e7ba50aa",
   "metadata": {},
   "outputs": [
    {
     "name": "stdout",
     "output_type": "stream",
     "text": [
      "Cabin\n",
      "B96 B98        4\n",
      "G6             4\n",
      "C23 C25 C27    4\n",
      "C22 C26        3\n",
      "F33            3\n",
      "              ..\n",
      "E34            1\n",
      "C7             1\n",
      "C54            1\n",
      "E36            1\n",
      "C148           1\n",
      "Name: count, Length: 147, dtype: int64\n",
      "count         204\n",
      "unique        147\n",
      "top       B96 B98\n",
      "freq            4\n",
      "Name: Cabin, dtype: object\n",
      "Number of non-null values: 204 / 891\n"
     ]
    },
    {
     "data": {
      "text/plain": [
       "Counter({'c': 71, 'b': 64, 'd': 34, 'e': 33, 'a': 15, 'f': 13, 'g': 7, 't': 1})"
      ]
     },
     "execution_count": 19,
     "metadata": {},
     "output_type": "execute_result"
    }
   ],
   "source": [
    "# Almost done with univariate EDA - let's look at cabin numbers next\n",
    "print(df.Cabin.value_counts())\n",
    "print(df.Cabin.describe())\n",
    "# What are these letters? Floor numbers? Could be correlated with class\n",
    "# Looks like we also have some missing values in here\n",
    "print(f\"Number of non-null values: {len(df.Cabin.dropna())} / {len(df.Cabin)}\")\n",
    "# We can probably include an is nan feature for missing cabin numbers\n",
    "text = \" \".join(df.Cabin.dropna())\n",
    "Counter(c for c in text.lower() if c.isalpha())"
   ]
  },
  {
   "cell_type": "code",
   "execution_count": 20,
   "id": "d2ae170d-ecd2-40a6-8e4a-ec4db3c07a6a",
   "metadata": {},
   "outputs": [
    {
     "data": {
      "text/plain": [
       "<Axes: xlabel='Embarked'>"
      ]
     },
     "execution_count": 20,
     "metadata": {},
     "output_type": "execute_result"
    },
    {
     "data": {
      "image/png": "[encoded data removed]",
      "text/plain": [
       "<Figure size 640x480 with 1 Axes>"
      ]
     },
     "metadata": {},
     "output_type": "display_data"
    }
   ],
   "source": [
    "# And lastly - embarked, which encodes where the port the person boarded on\n",
    "embarked_cnts = df.Embarked.value_counts()\n",
    "embarked_cnts.plot(kind='bar')"
   ]
  },
  {
   "cell_type": "code",
   "execution_count": null,
   "id": "9c96c810-8981-490b-bd38-adf4aabf37cb",
   "metadata": {},
   "outputs": [],
   "source": []
  }
 ],
 "metadata": {
  "kernelspec": {
   "display_name": "Python 3 (ipykernel)",
   "language": "python",
   "name": "python3"
  },
  "language_info": {
   "codemirror_mode": {
    "name": "ipython",
    "version": 3
   },
   "file_extension": ".py",
   "mimetype": "text/x-python",
   "name": "python",
   "nbconvert_exporter": "python",
   "pygments_lexer": "ipython3",
   "version": "3.9.6"
  }
 },
 "nbformat": 4,
 "nbformat_minor": 5
}
