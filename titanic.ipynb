{
 "cells": [
  {
   "cell_type": "code",
   "execution_count": null,
   "id": "1c399dd6-dda0-422e-bafc-3b7df9ca632f",
   "metadata": {},
   "outputs": [],
   "source": [
    "# Let's start with some standard imports\n",
    "import numpy as np\n",
    "import matplotlib.pyplot as plt\n",
    "import pandas as pd\n",
    "import sklearn"
   ]
  },
  {
   "cell_type": "code",
   "execution_count": null,
   "id": "6a8483be-f8f4-4724-a946-e90ac1ef7da3",
   "metadata": {},
   "outputs": [],
   "source": [
    "# Downloading and unzipping dataset\n",
    "# Only need to run once\n",
    "\n",
    "#!cd data/ && kaggle competitions download -c titanic\n",
    "#!cd data/ && unzip titanic.zip"
   ]
  },
  {
   "cell_type": "code",
   "execution_count": null,
   "id": "2fb99b56-93db-4e8d-b0c1-95187fe57d2d",
   "metadata": {},
   "outputs": [],
   "source": [
    "# Let's load the data and take a first look\n",
    "df = pd.read_csv(\"data/train.csv\")\n",
    "df.head()"
   ]
  },
  {
   "cell_type": "code",
   "execution_count": null,
   "id": "4ea0a7e2-7e71-4405-9642-86a7a77af527",
   "metadata": {},
   "outputs": [],
   "source": [
    "# Our primary cross validation method will be K-fold CV\n",
    "# Since our dataset and models will be small, we'll have resources to train several models to estimate model variance\n",
    "# Because of this, we won't have an individual val set - we're safe to do EDA on the whole given dataset"
   ]
  },
  {
   "cell_type": "code",
   "execution_count": null,
   "id": "60cb9a3f-44c0-4e66-9706-9881b3703253",
   "metadata": {},
   "outputs": [],
   "source": [
    "# Let's look at a summary of the data\n",
    "df.describe()"
   ]
  },
  {
   "cell_type": "code",
   "execution_count": null,
   "id": "8e7d4bad-aada-4dc4-aaaa-246fa9500156",
   "metadata": {},
   "outputs": [],
   "source": [
    "# Get a list of features\n",
    "df.columns"
   ]
  },
  {
   "cell_type": "code",
   "execution_count": null,
   "id": "a4f5795b-fd8f-4001-a6d6-647ada8089fe",
   "metadata": {},
   "outputs": [],
   "source": [
    "# Get total number of passengers\n",
    "N = len(df)"
   ]
  },
  {
   "cell_type": "code",
   "execution_count": null,
   "id": "2265a16a-edb1-4761-9653-a0a559909b35",
   "metadata": {},
   "outputs": [],
   "source": [
    "# First, let's look at passenger id\n",
    "# It appears like it might just be a linear increment\n",
    "print(df.PassengerId.head(100))\n",
    "\n",
    "# Let's confirm\n",
    "for n in range(N):\n",
    "    assert((n+1) == df.PassengerId[n])\n",
    "# Looks like we're good to go"
   ]
  },
  {
   "cell_type": "code",
   "execution_count": null,
   "id": "6bfbc900-9cc5-450a-8ad3-b6b928bdfd18",
   "metadata": {},
   "outputs": [],
   "source": [
    "# Next, let's look at the Survived column\n",
    "# This is our y - the value we're trying to predict\n",
    "# Let's confirm we're only getting binary values\n",
    "assert([0,1] in df.Survived.unique())\n",
    "survived_cnts = df.Survived.value_counts(dropna=False)\n",
    "print(survived_cnts)\n",
    "survived_cnts.plot(kind='bar')\n",
    "# Less than 40% of people in this dataset survived"
   ]
  },
  {
   "cell_type": "code",
   "execution_count": null,
   "id": "6f814bad-4e72-4d0d-8f85-6f3882b3a5f1",
   "metadata": {},
   "outputs": [],
   "source": [
    "# Next - Pclass, which is the ticket class\n",
    "# Looks like it's a ternary feature\n",
    "# When we start doing preprocessing, we need to one-hot encode this\n",
    "pclass_cnts = df.Pclass.value_counts(dropna=False)\n",
    "print(pclass_cnts)\n",
    "pclass_cnts.plot(kind='bar')"
   ]
  },
  {
   "cell_type": "code",
   "execution_count": null,
   "id": "857e4f02-2808-4920-84f2-dcd38d9a3a1e",
   "metadata": {},
   "outputs": [],
   "source": [
    "# Next, let's look at names\n",
    "# Confirmed all names are unique\n",
    "# I will probably not dive too deep into text features until later\n",
    "assert(df.Name.is_unique)\n",
    "\n",
    "# Let's get the most words (first names, last names, prefix, suffix, etc.)\n",
    "from collections import Counter\n",
    "words = \" \".join(df.Name)\n",
    "name_word_cnts = Counter(words.split())\n",
    "print(name_word_cnts.most_common(20))"
   ]
  },
  {
   "cell_type": "code",
   "execution_count": null,
   "id": "96afe1e3-b015-438b-bbc0-a2ca514cb691",
   "metadata": {},
   "outputs": [],
   "source": [
    "# Let's create a word cloud with all of the words in the names column\n",
    "# from wordcloud import WordCloud, STOPWORDS\n",
    "# wordcloud = WordCloud(width= 3000, height = 2000, random_state=1, background_color='#73B8E9', colormap='Pastel1', collocations=False, stopwords = STOPWORDS).generate(words)\n",
    "# plt.figure(figsize=(12, 8))\n",
    "# plt.imshow(wordcloud, interpolation=\"bilinear\")\n",
    "# plt.axis('off')\n",
    "# plt.show()"
   ]
  },
  {
   "cell_type": "code",
   "execution_count": null,
   "id": "dd62c208-ffc9-4047-b78d-825ec702159c",
   "metadata": {},
   "outputs": [],
   "source": [
    "# Next is Sex\n",
    "# Let's confirm if it's binary\n",
    "sex_cnts = df.Sex.value_counts(dropna=False)\n",
    "sex_cnts.plot(kind='bar')\n",
    "# We'll encode these into a binary 0/1 feature later"
   ]
  },
  {
   "cell_type": "code",
   "execution_count": null,
   "id": "cb636369-0904-45d3-95b4-be71842ef908",
   "metadata": {},
   "outputs": [],
   "source": [
    "age_cnts = df.Age.value_counts()\n",
    "print(age_cnts)\n",
    "# Interestingly, we have fractional ages here\n",
    "df.Age.hist()\n",
    "# May be a skewed normal distribution?\n",
    "# May want to create feature bins for age groups (baby, child, adult, etc.)"
   ]
  },
  {
   "cell_type": "code",
   "execution_count": null,
   "id": "8cde6a97-b0d7-4127-af24-71ed608347d7",
   "metadata": {},
   "outputs": [],
   "source": [
    "# Next is number of siblings / spouses on-board\n",
    "sibsp_cnts = df.SibSp.value_counts()\n",
    "print(sibsp_cnts)\n",
    "df.SibSp.hist()\n",
    "# Could split this into a binary feature - i.e. are you in a family on the Titanic?\n",
    "# Another thing to note - we seem to have five folks in a family of 5 (are they in the same family?) and 7 folks in a family of 8.\n",
    "# But one of the eight isn't on the list?\n",
    "# Maybe it's in the test set\n",
    "# This feature MAY cause overfitting since we're going to edge of the range for this feature"
   ]
  },
  {
   "cell_type": "code",
   "execution_count": null,
   "id": "c4f54013-b1e2-48fe-9c8a-9029311363c9",
   "metadata": {},
   "outputs": [],
   "source": [
    "# Next is num parents / children on Titanic\n",
    "print(df.Parch.value_counts())\n",
    "df.Parch.hist()\n",
    "# Most folks don't have parents or children\n",
    "# The most common non-zero value is 1\n",
    "# Could split this up into categorical features? \n",
    "# Maybe just 0, 1, 2, and 2+?"
   ]
  },
  {
   "cell_type": "code",
   "execution_count": null,
   "id": "c4504917-e370-4677-9f57-1d52f4b201a9",
   "metadata": {},
   "outputs": [],
   "source": [
    "# Next is ticket id\n",
    "# This seems more like a string?\n",
    "# Let's extract the most common words\n",
    "df.Ticket.head()\n",
    "ticket_words_list = \" \".join(df.Ticket).split()\n",
    "ticket_word_cnts = Counter(ticket_words_list)\n",
    "print(ticket_word_cnts.most_common(40))\n",
    "# Surpringly some of these are words, but some are numbers too - what's the relation? Do families share ticket numbers?\n",
    "# Let's grab the numbers and make a histogram\n",
    "ticket_nums_series = pd.Series([int(n) for n in ticket_words_list if n.isnumeric()])\n",
    "plt.xscale('log')\n",
    "ticket_nums_series.hist()\n",
    "print(ticket_nums_series.describe())\n",
    "# Looks to mostly look like a linear increment with some values missing"
   ]
  },
  {
   "cell_type": "code",
   "execution_count": null,
   "id": "df56791a-832f-4311-836c-2d72600128d4",
   "metadata": {},
   "outputs": [],
   "source": [
    "# Next let's look at fare\n",
    "print(df.Fare.describe())\n",
    "df.Fare.hist()\n",
    "# Looks like some people got in for free!\n",
    "print(df.Fare.value_counts())\n",
    "# Might be good to bin these values - there are defintely some standard price values"
   ]
  },
  {
   "cell_type": "code",
   "execution_count": null,
   "id": "a48087a5-7ecb-454a-bb38-b540e7ba50aa",
   "metadata": {},
   "outputs": [],
   "source": [
    "# Almost done with univariate EDA - let's look at cabin numbers next\n",
    "print(df.Cabin.value_counts())\n",
    "print(df.Cabin.describe())\n",
    "# What are these letters? Floor numbers? Could be correlated with class\n",
    "# Looks like we also have some missing values in here\n",
    "print(f\"Number of non-null values: {len(df.Cabin.dropna())} / {len(df.Cabin)}\")\n",
    "# We can probably include an is nan feature for missing cabin numbers\n",
    "text = \" \".join(df.Cabin.dropna())\n",
    "Counter(c for c in text.lower() if c.isalpha())"
   ]
  },
  {
   "cell_type": "code",
   "execution_count": null,
   "id": "d2ae170d-ecd2-40a6-8e4a-ec4db3c07a6a",
   "metadata": {},
   "outputs": [],
   "source": [
    "# And lastly - embarked, which encodes where the port the person boarded on\n",
    "embarked_cnts = df.Embarked.value_counts()\n",
    "embarked_cnts.plot(kind='bar')"
   ]
  },
  {
   "cell_type": "code",
   "execution_count": null,
   "id": "9c96c810-8981-490b-bd38-adf4aabf37cb",
   "metadata": {},
   "outputs": [],
   "source": [
    "# Next let's start looking at correlations between pairs of variables\n",
    "\n",
    "# PassengerId, Survived, Pclass, Name, Sex, Age, SibSp,Parch, Ticket, Fare, Cabin, Embarked\n",
    "# Since Survived is the variable to be predicted, let's first correlate survived with all of the other variables\n",
    "\n",
    "# 1. Survived, PassengerId\n",
    "no_survived_df = df[df.Survived == 0]\n",
    "survived_df = df[df.Survived == 1]\n",
    "\n",
    "plt.boxplot([no_survived_df.PassengerId, survived_df.PassengerId], labels=['0','1'])\n",
    "plt.ylabel(\"PassengerId\")\n",
    "plt.xlabel(\"Survived\")\n",
    "df[['PassengerId', 'Survived']].corr()\n",
    "\n",
    "# There is not much correlation at all between passenger id and survived"
   ]
  },
  {
   "cell_type": "code",
   "execution_count": null,
   "id": "f8049596-4347-42be-a269-925b0314ad4c",
   "metadata": {},
   "outputs": [],
   "source": [
    "# 2. Survived, Pclass\n",
    "\n",
    "plt.boxplot([no_survived_df.Pclass, survived_df.Pclass], labels=['0','1'])\n",
    "plt.ylabel(\"Pclass\")\n",
    "plt.xlabel(\"Survived\")\n",
    "print(df[['Pclass', 'Survived']].corr())\n",
    "\n",
    "# If we maintain ordering for pclass, we see a weak correlation\n",
    "# It is negative - meaning higher pclass has lower chance of surviving\n",
    "# While the survivors seem to be pretty unofrmly distributed between each class, those who perished are often in the lower classes\n",
    "\n",
    "df[['Pclass', 'Survived']].groupby('Survived').value_counts()\n",
    "# When we look at counts for pairs of values, 3rd class is disproportionally represented by 3rd class passengers"
   ]
  },
  {
   "cell_type": "code",
   "execution_count": null,
   "id": "35da5eea-7817-4efc-9e3b-372c68b0768a",
   "metadata": {},
   "outputs": [],
   "source": [
    "# 3. Survived, Name"
   ]
  },
  {
   "cell_type": "code",
   "execution_count": null,
   "id": "314c071b-0aea-4175-8ccd-9e65c8769bb2",
   "metadata": {},
   "outputs": [],
   "source": [
    "# 4. Survived, Sex\n",
    "is_male_series = df.Sex.apply(lambda x: 0 if x == 'female' else 1)\n",
    "print(is_male_series.corr(df.Survived))\n",
    "# We have a moderate association between sex and survival\n",
    "# It is negative - meaning males had a lower chance of survival\n",
    "\n",
    "# Exact values of pairs\n",
    "pd.concat([is_male_series, df.Survived], axis=1).groupby(\"Survived\").value_counts()\n",
    "\n",
    "# Percentage of total in each pair\n",
    "pd.concat([is_male_series, df.Survived], axis=1).groupby(\"Survived\").value_counts().apply(lambda x: x / len(df))\n",
    "# Over half of the dataset is males who died"
   ]
  },
  {
   "cell_type": "code",
   "execution_count": null,
   "id": "cd3dfc19-0a1c-43fb-98cc-d32d72774543",
   "metadata": {},
   "outputs": [],
   "source": [
    "# 5. Survived, Age\n",
    "print(df[['Age', 'Survived']].dropna().corr())\n",
    "plt.boxplot([no_survived_df.Age.dropna(), survived_df.Age.dropna()], labels=['0','1'])\n",
    "# Broadly speaking, there's no association with age and survival\n",
    "# This is surprising - I would've assumed children would've had a higher chance of survival\n",
    "# Also that older folks would've had a lower chance of survival - we can break this up more later when we bin ages"
   ]
  },
  {
   "cell_type": "code",
   "execution_count": null,
   "id": "f9288dc7-0607-4554-bfc9-00fdcefb3c88",
   "metadata": {},
   "outputs": [],
   "source": [
    "# 6. Survived, SibSp\n",
    "print(df[['SibSp', 'Survived']].dropna().corr())\n",
    "plt.boxplot([no_survived_df.SibSp.dropna(), survived_df.SibSp.dropna()], labels=['0','1'])\n",
    "# Largely there's no correlation if you look at the bulk of the data\n",
    "# When we look at outliers, the bigger families tended to not survive\n",
    "# Maybe an interaction term between SibSp and 'isOutlier' could be useful?\n",
    "# I think it might overfit though and compromise average performance"
   ]
  },
  {
   "cell_type": "code",
   "execution_count": null,
   "id": "96c0147d-e39a-4810-9697-a84f93674aa3",
   "metadata": {},
   "outputs": [],
   "source": [
    "# 7. Survived, Parch\n",
    "print(df[['Parch', 'Survived']].dropna().corr())\n",
    "plt.boxplot([no_survived_df.Parch.dropna(), survived_df.Parch.dropna()], labels=['0','1'])\n",
    "# It seems like not survivng is concentrated at 0\n",
    "# Let's group it \n",
    "df[['Parch', 'Survived']].dropna().groupby('Survived').value_counts()\n",
    "# Those without parents or siblings were more likely to not survive. Maybe it's correlated with being an adult male?"
   ]
  },
  {
   "cell_type": "code",
   "execution_count": null,
   "id": "5c4ef95c-a939-45ba-b705-e52f9a0dd9b9",
   "metadata": {},
   "outputs": [],
   "source": [
    "# 8. Survived, Ticket"
   ]
  },
  {
   "cell_type": "code",
   "execution_count": null,
   "id": "2e42b52d-0bd9-40c6-86f8-27fa95185012",
   "metadata": {},
   "outputs": [],
   "source": [
    "# 9. Survived, Fare"
   ]
  },
  {
   "cell_type": "code",
   "execution_count": null,
   "id": "2c8e82a5-eb56-4da4-89db-9552df1198a8",
   "metadata": {},
   "outputs": [],
   "source": [
    "# 10. Survived, Cabin"
   ]
  },
  {
   "cell_type": "code",
   "execution_count": null,
   "id": "5d953f70-e4b9-461e-afc5-11e91d9710f0",
   "metadata": {},
   "outputs": [],
   "source": [
    "# 11. Survived, Embarked"
   ]
  },
  {
   "cell_type": "code",
   "execution_count": null,
   "id": "d3c3114b-61f6-4cab-b59d-c72cf291958e",
   "metadata": {},
   "outputs": [],
   "source": [
    "# 12. PassengerId, Pclass"
   ]
  },
  {
   "cell_type": "code",
   "execution_count": null,
   "id": "affdf781-1564-4939-bc9e-762b3707868d",
   "metadata": {},
   "outputs": [],
   "source": [
    "# 13. PassengerId, Name"
   ]
  },
  {
   "cell_type": "code",
   "execution_count": null,
   "id": "8b28662d-5a78-4966-a94d-5c54e3e7dd6c",
   "metadata": {},
   "outputs": [],
   "source": [
    "# 14. PassengerId, Sex"
   ]
  },
  {
   "cell_type": "code",
   "execution_count": null,
   "id": "cde242f9-808d-4740-b8d7-0563eb1b86a9",
   "metadata": {},
   "outputs": [],
   "source": [
    "# 15. PassengerId, Age"
   ]
  },
  {
   "cell_type": "code",
   "execution_count": null,
   "id": "0256e101-88ee-41c9-8894-08869f8bf24a",
   "metadata": {},
   "outputs": [],
   "source": [
    "# 16. PassengerId, SibSp"
   ]
  },
  {
   "cell_type": "code",
   "execution_count": null,
   "id": "1cf59e8e-37c7-49bb-a349-1ea9d6d33ee4",
   "metadata": {},
   "outputs": [],
   "source": [
    "# 17. PassengerId, Parch"
   ]
  },
  {
   "cell_type": "code",
   "execution_count": null,
   "id": "0dc6c8ea-be2c-4901-9418-c0fc745bfa7c",
   "metadata": {},
   "outputs": [],
   "source": [
    "# 18. PassengerId, Ticket"
   ]
  },
  {
   "cell_type": "code",
   "execution_count": null,
   "id": "d72d0642-db0c-444a-aabd-4ff42678bc39",
   "metadata": {},
   "outputs": [],
   "source": [
    "# 19. PassengerId, Fare"
   ]
  },
  {
   "cell_type": "code",
   "execution_count": null,
   "id": "54c3234e-36dd-49c0-923a-f05d38056ef5",
   "metadata": {},
   "outputs": [],
   "source": [
    "# 20. PassengerId, Cabin"
   ]
  },
  {
   "cell_type": "code",
   "execution_count": null,
   "id": "29fa8be3-0a79-4f00-846e-a5d15bd5fc00",
   "metadata": {},
   "outputs": [],
   "source": [
    "# 21. PassengerId, Embarked"
   ]
  },
  {
   "cell_type": "code",
   "execution_count": null,
   "id": "85ebf8b8-645d-45d7-bf86-65b8a7f4754d",
   "metadata": {},
   "outputs": [],
   "source": [
    "# 22. Pclass, Name"
   ]
  },
  {
   "cell_type": "code",
   "execution_count": null,
   "id": "be069564-fb02-4d89-a2d9-e87fd52c0149",
   "metadata": {},
   "outputs": [],
   "source": [
    "# 23. Pclass, Sex"
   ]
  },
  {
   "cell_type": "code",
   "execution_count": null,
   "id": "230e8289-9a64-46f0-9f45-fa69cb63c6ed",
   "metadata": {},
   "outputs": [],
   "source": [
    "# 24. Pclass, Age"
   ]
  },
  {
   "cell_type": "code",
   "execution_count": null,
   "id": "f8f87504-a720-4850-b405-75665f456019",
   "metadata": {},
   "outputs": [],
   "source": [
    "# 25. Pclass, SibSp"
   ]
  },
  {
   "cell_type": "code",
   "execution_count": null,
   "id": "e7391bf7-ca88-471c-9e4d-a215d962d620",
   "metadata": {},
   "outputs": [],
   "source": [
    "# 26. Pclass, Parch"
   ]
  },
  {
   "cell_type": "code",
   "execution_count": null,
   "id": "7553ae3c-8a2b-4a2f-a110-f207357cdeb6",
   "metadata": {},
   "outputs": [],
   "source": [
    "# 27. Pclass, Ticket"
   ]
  },
  {
   "cell_type": "code",
   "execution_count": null,
   "id": "1f9f6f65-b4c5-4e71-a160-83930fe6dffa",
   "metadata": {},
   "outputs": [],
   "source": [
    "# 28. Pclass, Fare"
   ]
  },
  {
   "cell_type": "code",
   "execution_count": null,
   "id": "a5ec902c-c0fe-4b5c-bd27-10a5cf039d3f",
   "metadata": {},
   "outputs": [],
   "source": [
    "# 29. Pclass, Cabin"
   ]
  },
  {
   "cell_type": "code",
   "execution_count": null,
   "id": "7420a2ab-ea2f-483e-94c1-ced36da4e730",
   "metadata": {},
   "outputs": [],
   "source": [
    "# 30. Pclass, Embarked"
   ]
  },
  {
   "cell_type": "code",
   "execution_count": null,
   "id": "85302ad2-8679-4dce-b81d-6e73ae52c5ef",
   "metadata": {},
   "outputs": [],
   "source": [
    "# 31. Name, Sex"
   ]
  },
  {
   "cell_type": "code",
   "execution_count": null,
   "id": "90b63b4f-502a-4969-80af-0e0ba6178159",
   "metadata": {},
   "outputs": [],
   "source": [
    "# 32. Name, Age"
   ]
  },
  {
   "cell_type": "code",
   "execution_count": null,
   "id": "8a560d0c-4c0e-481c-840f-a9b0fb699dd9",
   "metadata": {},
   "outputs": [],
   "source": [
    "# 33. Name, SibSp"
   ]
  },
  {
   "cell_type": "code",
   "execution_count": null,
   "id": "455457d6-2475-446e-a861-0fcc20ede810",
   "metadata": {},
   "outputs": [],
   "source": [
    "# 34. Name, Parch"
   ]
  },
  {
   "cell_type": "code",
   "execution_count": null,
   "id": "e9c5df7d-9531-494d-9740-fde9af210cbf",
   "metadata": {},
   "outputs": [],
   "source": [
    "# 35. Name, Ticket"
   ]
  },
  {
   "cell_type": "code",
   "execution_count": null,
   "id": "7677a32b-f66d-4931-a775-ec1dc500639a",
   "metadata": {},
   "outputs": [],
   "source": [
    "# 36. Name, Fare"
   ]
  },
  {
   "cell_type": "code",
   "execution_count": null,
   "id": "ec56d425-237c-46ff-8435-39c3865c9a6f",
   "metadata": {},
   "outputs": [],
   "source": [
    "# 37. Name, Cabin"
   ]
  },
  {
   "cell_type": "code",
   "execution_count": null,
   "id": "ec8809b9-9305-4b90-bcc7-f955d990727d",
   "metadata": {},
   "outputs": [],
   "source": [
    "# 38. Name, Embarked"
   ]
  },
  {
   "cell_type": "code",
   "execution_count": null,
   "id": "e3cfd8c3-f640-40bf-a734-6836e8512ef7",
   "metadata": {},
   "outputs": [],
   "source": [
    "# 39. Sex, Age"
   ]
  },
  {
   "cell_type": "code",
   "execution_count": null,
   "id": "02354bfa-6ae6-415d-bebe-b81577c0cbcc",
   "metadata": {},
   "outputs": [],
   "source": [
    "# 40. Sex, SibSp"
   ]
  },
  {
   "cell_type": "code",
   "execution_count": null,
   "id": "f581266c-93fd-472a-864f-fd155fbb3ace",
   "metadata": {},
   "outputs": [],
   "source": [
    "# 41. Sex, Parch"
   ]
  },
  {
   "cell_type": "code",
   "execution_count": null,
   "id": "fe34ed13-e5d9-4d05-b9f0-4989efa9755c",
   "metadata": {},
   "outputs": [],
   "source": [
    "# 42. Sex, Ticket"
   ]
  },
  {
   "cell_type": "code",
   "execution_count": null,
   "id": "cff6cd40-fc8e-434f-ac27-a86169732b01",
   "metadata": {},
   "outputs": [],
   "source": [
    "# 43. Sex, Fare"
   ]
  },
  {
   "cell_type": "code",
   "execution_count": null,
   "id": "0626d3e5-f748-4da1-91c0-e2d2be54cf6f",
   "metadata": {},
   "outputs": [],
   "source": [
    "# 44. Sex, Cabin"
   ]
  },
  {
   "cell_type": "code",
   "execution_count": null,
   "id": "19069b68-ff27-4afa-aa10-f5f8b6a29687",
   "metadata": {},
   "outputs": [],
   "source": [
    "# 45. Sex, Embarked"
   ]
  },
  {
   "cell_type": "code",
   "execution_count": null,
   "id": "cecf7d7b-1933-4087-a46d-e13afd266e4f",
   "metadata": {},
   "outputs": [],
   "source": [
    "# 46. Age, SibSp"
   ]
  },
  {
   "cell_type": "code",
   "execution_count": null,
   "id": "e123f96b-873f-4a48-904c-24e451bd3b6d",
   "metadata": {},
   "outputs": [],
   "source": [
    "# 47. Age, Parch"
   ]
  },
  {
   "cell_type": "code",
   "execution_count": null,
   "id": "5fb720ec-7738-40c1-8a08-950fa2e06c42",
   "metadata": {},
   "outputs": [],
   "source": [
    "# 48. Age, Ticket"
   ]
  },
  {
   "cell_type": "code",
   "execution_count": null,
   "id": "4a2cca5d-615b-448a-9af4-77f55b805c00",
   "metadata": {},
   "outputs": [],
   "source": [
    "# 49. Age, Fare"
   ]
  },
  {
   "cell_type": "code",
   "execution_count": null,
   "id": "5fbe0312-d650-44a3-9dfd-9377b543c51c",
   "metadata": {},
   "outputs": [],
   "source": [
    "# 50. Age, Cabin"
   ]
  },
  {
   "cell_type": "code",
   "execution_count": null,
   "id": "fb4ac871-fe8c-4895-ae68-db8e031f1285",
   "metadata": {},
   "outputs": [],
   "source": [
    "# 51. Age, Embarked"
   ]
  },
  {
   "cell_type": "code",
   "execution_count": null,
   "id": "8feae995-91fa-4759-adb9-828c49a688b1",
   "metadata": {},
   "outputs": [],
   "source": [
    "# 52. SibSp, Parch"
   ]
  },
  {
   "cell_type": "code",
   "execution_count": null,
   "id": "4937baa2-c979-4c67-9d41-d9ef05b2f6e2",
   "metadata": {},
   "outputs": [],
   "source": [
    "# 53. SibSp, Ticket"
   ]
  },
  {
   "cell_type": "code",
   "execution_count": null,
   "id": "eebaa294-c802-40e5-ac2c-325c238a2375",
   "metadata": {},
   "outputs": [],
   "source": [
    "# 54. SibSp, Fare"
   ]
  },
  {
   "cell_type": "code",
   "execution_count": null,
   "id": "2c3f81ec-8975-4d3c-8518-1485dbd8c042",
   "metadata": {},
   "outputs": [],
   "source": [
    "# 55. SibSp, Cabin"
   ]
  },
  {
   "cell_type": "code",
   "execution_count": null,
   "id": "5f791fdc-d3aa-4a68-83ea-a6ac4f8aa98b",
   "metadata": {},
   "outputs": [],
   "source": [
    "# 56. SibSp, Embarked"
   ]
  },
  {
   "cell_type": "code",
   "execution_count": null,
   "id": "d2d71f4f-9eca-4a90-a0d7-837cde0a77e3",
   "metadata": {},
   "outputs": [],
   "source": [
    "# 57. Parch, Ticket"
   ]
  },
  {
   "cell_type": "code",
   "execution_count": null,
   "id": "97e383ff-8924-41e7-8840-2a8d995d4c07",
   "metadata": {},
   "outputs": [],
   "source": [
    "# 58. Parch, Fare"
   ]
  },
  {
   "cell_type": "code",
   "execution_count": null,
   "id": "cc0ea26e-a2aa-4f15-83ac-d83e9ebb7494",
   "metadata": {},
   "outputs": [],
   "source": [
    "# 59. Parch, Cabin"
   ]
  },
  {
   "cell_type": "code",
   "execution_count": null,
   "id": "b98deed7-2e19-4f00-b8bc-846f9cca5326",
   "metadata": {},
   "outputs": [],
   "source": [
    "# 60. Parch, Embarked"
   ]
  },
  {
   "cell_type": "code",
   "execution_count": null,
   "id": "0a5ca2aa-bd22-4d72-9921-6e66dfc2edc4",
   "metadata": {},
   "outputs": [],
   "source": [
    "# 61. Ticket, Fare"
   ]
  },
  {
   "cell_type": "code",
   "execution_count": null,
   "id": "f9849744-e9f2-4bf3-b364-deaa0cb0f8c3",
   "metadata": {},
   "outputs": [],
   "source": [
    "# 62. Ticket, Cabin"
   ]
  },
  {
   "cell_type": "code",
   "execution_count": null,
   "id": "3091a158-b62c-4e04-bea4-934dc333e29d",
   "metadata": {},
   "outputs": [],
   "source": [
    "# 63. Ticket, Embarked"
   ]
  },
  {
   "cell_type": "code",
   "execution_count": null,
   "id": "9bc46686-6861-4523-86f0-9bf9737ee4e5",
   "metadata": {},
   "outputs": [],
   "source": [
    "# 64. Fare, Cabin"
   ]
  },
  {
   "cell_type": "code",
   "execution_count": null,
   "id": "be8ba132-5ad3-494d-8006-0d32b2138aff",
   "metadata": {},
   "outputs": [],
   "source": [
    "# 65. Fare, Embarked"
   ]
  },
  {
   "cell_type": "code",
   "execution_count": null,
   "id": "0459a6ef-ecca-444c-b768-59895b66185a",
   "metadata": {},
   "outputs": [],
   "source": [
    "# 66. Cabin, Embarked"
   ]
  },
  {
   "cell_type": "code",
   "execution_count": null,
   "id": "9ccc6050-b150-4572-86a8-01ffdc7e6be8",
   "metadata": {},
   "outputs": [],
   "source": []
  }
 ],
 "metadata": {
  "kernelspec": {
   "display_name": "Python 3 (ipykernel)",
   "language": "python",
   "name": "python3"
  },
  "language_info": {
   "codemirror_mode": {
    "name": "ipython",
    "version": 3
   },
   "file_extension": ".py",
   "mimetype": "text/x-python",
   "name": "python",
   "nbconvert_exporter": "python",
   "pygments_lexer": "ipython3",
   "version": "3.9.6"
  }
 },
 "nbformat": 4,
 "nbformat_minor": 5
}
