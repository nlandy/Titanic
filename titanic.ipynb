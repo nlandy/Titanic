{
 "cells": [
  {
   "cell_type": "code",
   "execution_count": null,
   "id": "1c399dd6-dda0-422e-bafc-3b7df9ca632f",
   "metadata": {},
   "outputs": [],
   "source": [
    "# Let's start with some standard imports\n",
    "import numpy as np\n",
    "import matplotlib.pyplot as plt\n",
    "import pandas as pd\n",
    "import sklearn"
   ]
  },
  {
   "cell_type": "code",
   "execution_count": null,
   "id": "f9c6a6ec-3a3d-4f62-a46f-735833c9b44a",
   "metadata": {},
   "outputs": [],
   "source": [
    "# import kaggle API for submissions\n",
    "import kaggle\n",
    "kaggle.api.authenticate()"
   ]
  },
  {
   "cell_type": "code",
   "execution_count": null,
   "id": "6a8483be-f8f4-4724-a946-e90ac1ef7da3",
   "metadata": {},
   "outputs": [],
   "source": [
    "# Downloading and unzipping dataset\n",
    "# Only need to run once\n",
    "\n",
    "#!cd data/ && kaggle competitions download -c titanic\n",
    "#!cd data/ && unzip titanic.zip"
   ]
  },
  {
   "cell_type": "code",
   "execution_count": null,
   "id": "2fb99b56-93db-4e8d-b0c1-95187fe57d2d",
   "metadata": {},
   "outputs": [],
   "source": [
    "# Let's load the data and take a first look\n",
    "df = pd.read_csv(\"data/train.csv\")\n",
    "df.head()"
   ]
  },
  {
   "cell_type": "code",
   "execution_count": null,
   "id": "60cb9a3f-44c0-4e66-9706-9881b3703253",
   "metadata": {},
   "outputs": [],
   "source": []
  }
 ],
 "metadata": {
  "kernelspec": {
   "display_name": "Python 3 (ipykernel)",
   "language": "python",
   "name": "python3"
  },
  "language_info": {
   "codemirror_mode": {
    "name": "ipython",
    "version": 3
   },
   "file_extension": ".py",
   "mimetype": "text/x-python",
   "name": "python",
   "nbconvert_exporter": "python",
   "pygments_lexer": "ipython3",
   "version": "3.9.6"
  }
 },
 "nbformat": 4,
 "nbformat_minor": 5
}
